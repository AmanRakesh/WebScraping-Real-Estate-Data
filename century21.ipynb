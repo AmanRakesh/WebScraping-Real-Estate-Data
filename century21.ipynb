{
 "cells": [
  {
   "cell_type": "code",
   "execution_count": 2,
   "metadata": {},
   "outputs": [],
   "source": [
    "import requests\n",
    "from bs4 import BeautifulSoup\n",
    "import ssl\n",
    "import pandas as pd"
   ]
  },
  {
   "cell_type": "code",
   "execution_count": 3,
   "metadata": {},
   "outputs": [],
   "source": [
    "ctx = ssl.create_default_context()\n",
    "ctx.check_hostname = False\n",
    "ctx.verify_mode = ssl.CERT_NONE"
   ]
  },
  {
   "cell_type": "code",
   "execution_count": 4,
   "metadata": {},
   "outputs": [],
   "source": [
    "r = requests.get(\"https://www.makaan.com/chennai-residential-property/buy-property-in-chennai-city?budget=,\")\n",
    "code = r.content\n",
    "#code"
   ]
  },
  {
   "cell_type": "code",
   "execution_count": 5,
   "metadata": {},
   "outputs": [],
   "source": [
    "soup = BeautifulSoup(code,\"html.parser\")\n",
    "#print(soup.prettify())"
   ]
  },
  {
   "cell_type": "code",
   "execution_count": 6,
   "metadata": {},
   "outputs": [
    {
     "data": {
      "text/plain": [
       "20"
      ]
     },
     "execution_count": 6,
     "metadata": {},
     "output_type": "execute_result"
    }
   ],
   "source": [
    "all = soup.find_all(\"li\",{\"class\":\"cardholder\"})\n",
    "#print(len(all))"
   ]
  },
  {
   "cell_type": "code",
   "execution_count": 7,
   "metadata": {},
   "outputs": [
    {
     "data": {
      "text/plain": [
       "'https://www.makaan.com/chennai/indira-projects-new-town-in-oragadam-6109580/1bhk-1t-600-sqft-villa'"
      ]
     },
     "execution_count": 7,
     "metadata": {},
     "output_type": "execute_result"
    }
   ],
   "source": [
    "l=all[0].find('a',{\"data-type\":\"listing-link\"})\n",
    "#print(l.get(\"href\"))"
   ]
  },
  {
   "cell_type": "code",
   "execution_count": 8,
   "metadata": {},
   "outputs": [],
   "source": [
    "links = []\n",
    "for item in all:\n",
    "    l=item.find('a',{\"data-type\":\"listing-link\"})\n",
    "    links.append(l.get(\"href\"))\n",
    "    \n",
    "    #print(links)"
   ]
  },
  {
   "cell_type": "code",
   "execution_count": 25,
   "metadata": {},
   "outputs": [],
   "source": [
    "list2=[]\n",
    "name=[]\n",
    "size = []\n",
    "place=[]\n",
    "location=[]\n",
    "city=[]\n",
    "i=0\n",
    "\n",
    "for link in links:\n",
    "    \n",
    "    r1 = requests.get(link)\n",
    "    code1 = r1.content\n",
    "    soup1 = BeautifulSoup(code1,\"html.parser\")\n",
    "    all1 = soup1.find_all(\"h1\",{\"class\":\"type-wrap\"})\n",
    "    \n",
    "    #name.append(all1[0].find(('span',{\"class\":\"type\"})).text)\n",
    "    \n",
    "    s = all1[0].find_all((\"span\",{\"class\":\"size\"}))\n",
    "    if(len(s)>5):\n",
    "        name.append(s[0].text)\n",
    "        size.append(s[1].text)\n",
    "        place.append(s[2].text)\n",
    "        location.append(s[4].text)\n",
    "        city.append(s[5].text)\n",
    "        \n",
    "    else:\n",
    "        name.append(s[0].text)\n",
    "        size.append(s[1].text)\n",
    "        place.append(s[2].text)\n",
    "        location.append(s[2].text)\n",
    "        city.append(s[3].text)\n",
    "        \n",
    "    list1= [name[i],size[i],place[i],location[i],city[i]]\n",
    "    list2.append(list1)\n",
    "    i=i+1\n",
    "#print(name)\n",
    "#print(size)\n",
    "#print(place)\n",
    "#print(location)\n",
    "#print((city))\n",
    "#print(list2)"
   ]
  },
  {
   "cell_type": "code",
   "execution_count": 26,
   "metadata": {},
   "outputs": [
    {
     "name": "stdout",
     "output_type": "stream",
     "text": [
      "                  Name         Size                                Place  \\\n",
      "0         1 BHK Villa     600 sq ft                      Indira New Town   \n",
      "1     1 BHK Apartment     631 sq ft                  Sapthrishi asta AVM   \n",
      "2     2 BHK Apartment   1,100 sq ft                            VM garden   \n",
      "3    Residential Plot   2,357 sq ft                     Ashok Metrovaram   \n",
      "4    Residential Plot   2,400 sq ft                    Accord Cosmo City   \n",
      "5     3 BHK Apartment     910 sq ft                            Chromepet   \n",
      "6     3 BHK Apartment   1,540 sq ft                   Golden Platinum 63   \n",
      "7     2 BHK Apartment     950 sq ft                        Porur Link Rd   \n",
      "8    Residential Plot   2,341 sq ft                     Jansen Srikrithi   \n",
      "9     2 BHK Apartment   1,122 sq ft         Alliance Galleria Residences   \n",
      "10    1 BHK Apartment     481 sq ft         Urbanrise Jubliee Residences   \n",
      "11    2 BHK Apartment     610 sq ft                  Avadi Melpakkam Vgn   \n",
      "12        3 BHK Villa   1,591 sq ft                        Aradhya Villa   \n",
      "13        2 BHK Villa     750 sq ft                      Indira New Town   \n",
      "14    2 BHK Apartment     835 sq ft                        VS Madipakkam   \n",
      "15   Residential Plot     599 sq ft         Sree Jayaram nagarthiruporur   \n",
      "16        3 BHK Villa   1,530 sq ft                        MGP Daffodils   \n",
      "17    3 BHK Apartment   1,308 sq ft                        GP Pearl Iris   \n",
      "18    3 BHK Apartment   1,443 sq ft                    Embassy Residency   \n",
      "19        3 BHK Villa     994 sq ft   AMAZZE GREEN PARK VILLAS URAPAKKAM   \n",
      "\n",
      "          Locality     City  \n",
      "0         Oragadam  Chennai  \n",
      "1       Vadapalani  Chennai  \n",
      "2     Chengalpattu  Chennai  \n",
      "3       Madhavaram  Chennai  \n",
      "4    Mevalurkuppam  Chennai  \n",
      "5        Chromepet  Chennai  \n",
      "6       Anna Nagar  Chennai  \n",
      "7    Porur Link Rd  Chennai  \n",
      "8   Sholinganallur  Chennai  \n",
      "9       Pallavaram  Chennai  \n",
      "10    Guduvancheri  Chennai  \n",
      "11           Avadi  Chennai  \n",
      "12   East Tambaram  Chennai  \n",
      "13        Oragadam  Chennai  \n",
      "14      Madipakkam  Chennai  \n",
      "15     Thirupporur  Chennai  \n",
      "16  Sholinganallur  Chennai  \n",
      "17       Ayapakkam  Chennai  \n",
      "18     Perumbakkam  Chennai  \n",
      "19       Urapakkam  Chennai  \n"
     ]
    }
   ],
   "source": [
    "df=pd.DataFrame(list2)\n",
    "df.columns=['Name','Size','Place','Locality','City']\n",
    "#df.set_index('Name')\n",
    "print(df)\n",
    "df.to_csv('makaan.csv')"
   ]
  },
  {
   "cell_type": "code",
   "execution_count": null,
   "metadata": {},
   "outputs": [],
   "source": []
  }
 ],
 "metadata": {
  "kernelspec": {
   "display_name": "Python 3",
   "language": "python",
   "name": "python3"
  },
  "language_info": {
   "codemirror_mode": {
    "name": "ipython",
    "version": 3
   },
   "file_extension": ".py",
   "mimetype": "text/x-python",
   "name": "python",
   "nbconvert_exporter": "python",
   "pygments_lexer": "ipython3",
   "version": "3.7.0"
  }
 },
 "nbformat": 4,
 "nbformat_minor": 2
}
